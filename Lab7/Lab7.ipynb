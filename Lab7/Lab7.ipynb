{
 "cells": [
  {
   "cell_type": "markdown",
   "metadata": {
    "collapsed": true
   },
   "source": [
    "# Лабораторна робота №7\n",
    "# Знайомство з об’єктами бібліотеки spaCy\n",
    "# Виконала Вероніка Кондратенко ІО-04\n",
    "# Варіант 11"
   ]
  },
  {
   "cell_type": "code",
   "execution_count": 18,
   "metadata": {},
   "outputs": [],
   "source": [
    "import spacy\n",
    "from spacy.matcher import Matcher\n"
   ]
  },
  {
   "cell_type": "markdown",
   "metadata": {},
   "source": [
    "# Виконує завдання №2 лабораторної роботи №1 за допомогою класу Matcher"
   ]
  },
  {
   "cell_type": "code",
   "execution_count": 19,
   "metadata": {},
   "outputs": [
    {
     "data": {
      "text/plain": [
       "'Slowly and solemnly he was borne into Briony Lodge 145a and laid out in the\\nprincipal room, while I (094)-44-33 still observed the proceedings from my post\\nby the window 12/15/1892. The lamps had been lit, but the blinds had not been\\ndrawn, so that I could see Holmes sh_holmes221@mail.uk as he lay upon the couch. I do not\\nknow whether he was seized with compunction at that moment for the part\\nhe was playing, but I know that I never felt more heartily ashamed of\\nmyself in my life 34-34-32 than when I saw the beautiful creature against whom\\nI wston23@mymail.com was conspiring, or the grace and kindliness with which she waited\\nupon the injured man. And yet it would be the blackest treachery to 1895-11-17\\nHolmes to draw back now from the part which he had intrusted to me Avenue 123.\\nI hardened my heart Wtason Street 45b, and took the smoke-rocket from under my ulster.\\nAfter all, 344-21-01 I thought, we are not injuring her. We are but preventing\\nher from injuring another adlerrr@mail.com.'"
      ]
     },
     "execution_count": 19,
     "metadata": {},
     "output_type": "execute_result"
    }
   ],
   "source": [
    "text_file = open(\"text3.txt\", \"r\")\n",
    "text = text_file.read()\n",
    "text_file.close()\n",
    "text"
   ]
  },
  {
   "cell_type": "code",
   "execution_count": 20,
   "metadata": {},
   "outputs": [
    {
     "name": "stdout",
     "output_type": "stream",
     "text": [
      "sh_holmes221@mail.uk\n",
      "wston23@mymail.com\n",
      "adlerrr@mail.com\n"
     ]
    }
   ],
   "source": [
    "nlp = spacy.load('en_core_web_sm')\n",
    "matcher = Matcher(nlp.vocab)\n",
    "doc = nlp(text)\n",
    "email_pattern = [{\"LIKE_EMAIL\": True}]\n",
    "matcher.add(\"Email\", [email_pattern])\n",
    "matches = matcher(doc)\n",
    "for match_id, start, end in matches:\n",
    "    m_span = doc[start:end]\n",
    "    print(m_span.text)"
   ]
  },
  {
   "cell_type": "markdown",
   "metadata": {},
   "source": [
    "# а) Знайти та вивести стоп-слова, які присутні у тексті"
   ]
  },
  {
   "cell_type": "code",
   "execution_count": 21,
   "metadata": {},
   "outputs": [
    {
     "data": {
      "text/plain": [
       "'Gordon Brown has issued a rallying cry, telling supporters the \"stakes are too high\" to stay at home or protest vote in the forthcoming general election.  The chancellor said the vote - expected to fall on 5 May - will give a \"clear and fundamental\" choice between Labour investment and Conservative cuts. Speaking at Labour\\'s spring conference in Gateshead, Mr Brown claimed the NHS was not safe in Conservative hands. He said Tory plans to cut ВЈ35bn tax would \"cut deep into public service\".  To a packed audience at Gateshead\\'s Sage Centre, the chancellor said the cuts proposed by shadow chancellor Oliver Letwin were the equivalent of sacking every teacher, GP and nurse in the country, he told activists. Laying into the Conservative\\'s record in government he said: \"I give you this promise - with Labour, Britain will never return to the mistakes of ERM and 10% inflation, 15% interest rates, ВЈ3bn in lost reserves, 250,000 repossessed, one million in negative equity and three million unemployed. \"Never again Tory boom and bust.  \"This will be the central dividing line at the election, between a Conservative Party taking Britain back and planning deep cuts of ВЈ35bn in our services, and a Labour government taking Britain forward, which on a platform of stability will reform and renew our hospitals, schools and public services and, I am proud to say, spend by 2008 ВЈ60bn more.\" Turning to the economy, the chancellor pledged to continue economic stability and growth in a third term in power.  He said after seven years Labour had transformed from a party not trusted with the economy to \"the only party trusted with the economy\". It was now a \"party not just of employees, but of employers and managers\", he said. In the speech - which prompted a standing ovation from an audience clearly \"warm\" to Mr Brown - he also promised to end teenage unemployment within the next five years. He also highlighted plans for 100% debt relief for the world\\'s poorest countries, a national minimum wage for 16 and 17-year-olds and the creation of a network of children\\'s centres and flexibility in maternity leave. The prime minister is to take part later on Saturday in an interactive question and answer session, fielding queries sent in by e-mail, text message and telephone as part of Labour\\'s attempt to engage the public in their campaign. '"
      ]
     },
     "execution_count": 21,
     "metadata": {},
     "output_type": "execute_result"
    }
   ],
   "source": [
    "text_file = open(\"lab7-3.txt\", \"r\", encoding=\"utf-8\")\n",
    "text = text_file.read()\n",
    "text_file.close()\n",
    "text"
   ]
  },
  {
   "cell_type": "code",
   "execution_count": 22,
   "metadata": {},
   "outputs": [
    {
     "name": "stdout",
     "output_type": "stream",
     "text": [
      "{'which', 'between', 'give', 'more', 'To', 'also', 'just', 'an', 'be', 'now', 'say', 'only', 'May', 'our', 'is', 'with', 'a', 'of', 'this', 'In', 'I', 'he', 'part', 'will', 'He', 'at', 'to', 'into', 'every', 'on', 'and', 'was', 'third', 'next', 'too', 'for', 'you', 'as', 'not', 'one', 'Never', 'from', 'three', \"'s\", 'five', 'had', 'or', 'in', 'again', 'am', 'but', 'take', 'their', 'after', 'The', 'the', 'were', 'within', 'has', 'would', 'back', 'are', 'This', 'never', 'by', 'It'}\n"
     ]
    }
   ],
   "source": [
    "def get_stopwords(text):\n",
    "    nlp = spacy.load(\"en_core_web_sm\")  \n",
    "    doc = nlp(text)\n",
    "    stopwords = set()\n",
    "    for token in doc:\n",
    "        if token.is_stop:\n",
    "            stopwords.add(token.text)\n",
    "    return stopwords\n",
    "\n",
    "stopwords = get_stopwords(text)\n",
    "print(stopwords)"
   ]
  },
  {
   "cell_type": "markdown",
   "metadata": {},
   "source": [
    "# б) Знайти та вивести всі іменники, які присутні у тексті"
   ]
  },
  {
   "cell_type": "code",
   "execution_count": 23,
   "metadata": {},
   "outputs": [
    {
     "name": "stdout",
     "output_type": "stream",
     "text": [
      "['cry', 'supporters', 'stakes', 'home', 'protest', 'vote', 'election', 'chancellor', 'vote', 'choice', 'investment', 'cuts', 'spring', 'conference', 'hands', 'tax', 'service', 'audience', 'chancellor', 'cuts', 'equivalent', 'teacher', 'nurse', 'country', 'activists', 'record', 'government', 'promise', 'mistakes', '%', 'inflation', '%', 'interest', 'rates', 'reserves', 'equity', 'boom', 'bust', 'dividing', 'line', 'election', 'cuts', 'ВЈ35bn', 'services', 'government', 'platform', 'stability', 'hospitals', 'schools', 'services', 'economy', 'chancellor', 'stability', 'growth', 'term', 'power', 'years', 'party', 'economy', 'party', 'economy', 'party', 'employees', 'employers', 'managers', 'speech', 'ovation', 'audience', 'unemployment', 'years', 'plans', '%', 'debt', 'relief', 'world', 'countries', 'minimum', 'wage', 'year', 'olds', 'creation', 'network', 'children', 'centres', 'flexibility', 'maternity', 'leave', 'minister', 'part', 'question', 'answer', 'session', 'queries', 'e', '-', 'mail', 'text', 'message', 'telephone', 'part', 'attempt', 'public', 'campaign']\n"
     ]
    }
   ],
   "source": [
    "def get_nouns(text):\n",
    "    nlp = spacy.load(\"en_core_web_sm\") \n",
    "    doc = nlp(text)\n",
    "    nouns = []\n",
    "    for token in doc:\n",
    "        if token.pos_ == \"NOUN\":\n",
    "            nouns.append(token.text)\n",
    "    return nouns\n",
    "\n",
    "nouns = get_nouns(text)\n",
    "print(nouns)"
   ]
  },
  {
   "cell_type": "markdown",
   "metadata": {},
   "source": [
    "# в) Знайти та вивести числа і організації, які присутні у тексті"
   ]
  },
  {
   "cell_type": "code",
   "execution_count": 24,
   "metadata": {},
   "outputs": [
    {
     "name": "stdout",
     "output_type": "stream",
     "text": [
      "['Labour', 'Labour', 'NHS', \"Gateshead's Sage Centre\", 'GP', 'Conservative', 'ERM', 'ВЈ3bn', 'Conservative Party', 'Labour', 'Labour']\n"
     ]
    }
   ],
   "source": [
    "# Організації\n",
    "def get_organizations(text):\n",
    "    nlp = spacy.load(\"en_core_web_sm\") \n",
    "    doc = nlp(text)\n",
    "    organizations = []\n",
    "    for entity in doc.ents:\n",
    "        if entity.label_ == \"ORG\":\n",
    "            organizations.append(entity.text)\n",
    "    return organizations\n",
    "\n",
    "organizations = get_organizations(text)\n",
    "print(organizations)"
   ]
  },
  {
   "cell_type": "code",
   "execution_count": 26,
   "metadata": {},
   "outputs": [
    {
     "name": "stdout",
     "output_type": "stream",
     "text": [
      "['5', '10', '15', '250,000', 'one', 'million', 'three', 'million', '2008', 'third', 'seven', 'five', '100', '16', '17']\n"
     ]
    }
   ],
   "source": [
    "#Числа\n",
    "def get_numbers(text):\n",
    "    nlp = spacy.load(\"en_core_web_sm\") \n",
    "    doc = nlp(text)\n",
    "    numbers = []\n",
    "    for token in doc:\n",
    "        if token.like_num:\n",
    "            numbers.append(token.text)\n",
    "    return numbers\n",
    "\n",
    "numbers = get_numbers(text)\n",
    "print(numbers)"
   ]
  },
  {
   "cell_type": "code",
   "execution_count": null,
   "metadata": {},
   "outputs": [],
   "source": []
  }
 ],
 "metadata": {
  "kernelspec": {
   "display_name": "Python 3 (ipykernel)",
   "language": "python",
   "name": "python3"
  },
  "language_info": {
   "codemirror_mode": {
    "name": "ipython",
    "version": 3
   },
   "file_extension": ".py",
   "mimetype": "text/x-python",
   "name": "python",
   "nbconvert_exporter": "python",
   "pygments_lexer": "ipython3",
   "version": "3.9.0"
  }
 },
 "nbformat": 4,
 "nbformat_minor": 1
}
