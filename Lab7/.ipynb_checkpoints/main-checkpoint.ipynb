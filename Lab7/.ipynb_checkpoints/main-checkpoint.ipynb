{
 "cells": [
  {
   "cell_type": "markdown",
   "metadata": {
    "collapsed": true
   },
   "source": [
    "# Лабораторна робота №7\n",
    "# Знайомство з об’єктами бібліотеки spaCy\n",
    "# Виконала Вероніка Кондратенко ІО-04\n",
    "# Варіант 11"
   ]
  },
  {
   "cell_type": "code",
   "execution_count": 45,
   "metadata": {},
   "outputs": [],
   "source": [
    "import spacy\n",
    "from spacy.matcher import Matcher\n",
    "from spacy.training import Example\n",
    "import random\n",
    "from nltk.tokenize import sent_tokenize\n",
    "import nltk\n",
    "from nltk.corpus import stopwords\n",
    "import re"
   ]
  },
  {
   "cell_type": "markdown",
   "metadata": {},
   "source": [
    "# Виконує завдання №2 лабораторної роботи №1 за допомогою класу Matcher"
   ]
  },
  {
   "cell_type": "code",
   "execution_count": 46,
   "metadata": {},
   "outputs": [
    {
     "data": {
      "text/plain": [
       "'Slowly and solemnly he was borne into Briony Lodge 145a and laid out in the\\nprincipal room, while I (094)-44-33 still observed the proceedings from my post\\nby the window 12/15/1892. The lamps had been lit, but the blinds had not been\\ndrawn, so that I could see Holmes sh_holmes221@mail.uk as he lay upon the couch. I do not\\nknow whether he was seized with compunction at that moment for the part\\nhe was playing, but I know that I never felt more heartily ashamed of\\nmyself in my life 34-34-32 than when I saw the beautiful creature against whom\\nI wston23@mymail.com was conspiring, or the grace and kindliness with which she waited\\nupon the injured man. And yet it would be the blackest treachery to 1895-11-17\\nHolmes to draw back now from the part which he had intrusted to me Avenue 123.\\nI hardened my heart Wtason Street 45b, and took the smoke-rocket from under my ulster.\\nAfter all, 344-21-01 I thought, we are not injuring her. We are but preventing\\nher from injuring another adlerrr@mail.com.'"
      ]
     },
     "execution_count": 46,
     "metadata": {},
     "output_type": "execute_result"
    }
   ],
   "source": [
    "text_file = open(\"text3.txt\", \"r\")\n",
    "text = text_file.read()\n",
    "text_file.close()\n",
    "text"
   ]
  },
  {
   "cell_type": "code",
   "execution_count": 47,
   "metadata": {},
   "outputs": [
    {
     "name": "stdout",
     "output_type": "stream",
     "text": [
      "sh_holmes221@mail.uk\n",
      "wston23@mymail.com\n",
      "adlerrr@mail.com\n"
     ]
    }
   ],
   "source": [
    "nlp = spacy.load('en_core_web_sm')\n",
    "matcher = Matcher(nlp.vocab)\n",
    "doc = nlp(text)\n",
    "email_pattern = [{\"LIKE_EMAIL\": True}]\n",
    "matcher.add(\"Email\", [email_pattern])\n",
    "matches = matcher(doc)\n",
    "for match_id, start, end in matches:\n",
    "    m_span = doc[start:end]\n",
    "    print(m_span.text)"
   ]
  },
  {
   "cell_type": "markdown",
   "metadata": {},
   "source": [
    "# а) Знайти та вивести стоп-слова, які присутні у тексті"
   ]
  },
  {
   "cell_type": "code",
   "execution_count": 48,
   "metadata": {},
   "outputs": [
    {
     "data": {
      "text/plain": [
       "'Gordon Brown has issued a rallying cry, telling supporters the \"stakes are too high\" to stay at home or protest vote in the forthcoming general election.  The chancellor said the vote - expected to fall on 5 May - will give a \"clear and fundamental\" choice between Labour investment and Conservative cuts. Speaking at Labour\\'s spring conference in Gateshead, Mr Brown claimed the NHS was not safe in Conservative hands. He said Tory plans to cut ВЈ35bn tax would \"cut deep into public service\".  To a packed audience at Gateshead\\'s Sage Centre, the chancellor said the cuts proposed by shadow chancellor Oliver Letwin were the equivalent of sacking every teacher, GP and nurse in the country, he told activists. Laying into the Conservative\\'s record in government he said: \"I give you this promise - with Labour, Britain will never return to the mistakes of ERM and 10% inflation, 15% interest rates, ВЈ3bn in lost reserves, 250,000 repossessed, one million in negative equity and three million unemployed. \"Never again Tory boom and bust.  \"This will be the central dividing line at the election, between a Conservative Party taking Britain back and planning deep cuts of ВЈ35bn in our services, and a Labour government taking Britain forward, which on a platform of stability will reform and renew our hospitals, schools and public services and, I am proud to say, spend by 2008 ВЈ60bn more.\" Turning to the economy, the chancellor pledged to continue economic stability and growth in a third term in power.  He said after seven years Labour had transformed from a party not trusted with the economy to \"the only party trusted with the economy\". It was now a \"party not just of employees, but of employers and managers\", he said. In the speech - which prompted a standing ovation from an audience clearly \"warm\" to Mr Brown - he also promised to end teenage unemployment within the next five years. He also highlighted plans for 100% debt relief for the world\\'s poorest countries, a national minimum wage for 16 and 17-year-olds and the creation of a network of children\\'s centres and flexibility in maternity leave. The prime minister is to take part later on Saturday in an interactive question and answer session, fielding queries sent in by e-mail, text message and telephone as part of Labour\\'s attempt to engage the public in their campaign. '"
      ]
     },
     "execution_count": 48,
     "metadata": {},
     "output_type": "execute_result"
    }
   ],
   "source": [
    "text_file = open(\"lab7-3.txt\", \"r\", encoding=\"utf-8\")\n",
    "text = text_file.read()\n",
    "text_file.close()\n",
    "text"
   ]
  },
  {
   "cell_type": "code",
   "execution_count": 49,
   "metadata": {},
   "outputs": [
    {
     "name": "stdout",
     "output_type": "stream",
     "text": [
      "has\n",
      "a\n",
      "the\n",
      "are\n",
      "too\n",
      "to\n",
      "at\n",
      "or\n",
      "in\n",
      "the\n",
      "the\n",
      "the\n",
      "to\n",
      "on\n",
      "will\n",
      "a\n",
      "and\n",
      "between\n",
      "and\n",
      "at\n",
      "in\n",
      "the\n",
      "was\n",
      "not\n",
      "in\n",
      "he\n",
      "to\n",
      "into\n",
      "to\n",
      "a\n",
      "at\n",
      "the\n",
      "the\n",
      "by\n",
      "were\n",
      "the\n",
      "of\n",
      "and\n",
      "in\n",
      "the\n",
      "he\n",
      "into\n",
      "the\n",
      "in\n",
      "he\n",
      "i\n",
      "you\n",
      "this\n",
      "with\n",
      "will\n",
      "to\n",
      "the\n",
      "of\n",
      "and\n",
      "in\n",
      "in\n",
      "and\n",
      "again\n",
      "and\n",
      "this\n",
      "will\n",
      "be\n",
      "the\n",
      "at\n",
      "the\n",
      "between\n",
      "a\n",
      "and\n",
      "of\n",
      "in\n",
      "our\n",
      "and\n",
      "a\n",
      "which\n",
      "on\n",
      "a\n",
      "of\n",
      "will\n",
      "and\n",
      "our\n",
      "and\n",
      "and\n",
      "i\n",
      "am\n",
      "to\n",
      "by\n",
      "more\n",
      "to\n",
      "the\n",
      "the\n",
      "to\n",
      "and\n",
      "in\n",
      "a\n",
      "in\n",
      "he\n",
      "after\n",
      "had\n",
      "from\n",
      "a\n",
      "not\n",
      "with\n",
      "the\n",
      "to\n",
      "the\n",
      "only\n",
      "with\n",
      "the\n",
      "it\n",
      "was\n",
      "now\n",
      "a\n",
      "not\n",
      "just\n",
      "of\n",
      "but\n",
      "of\n",
      "and\n",
      "he\n",
      "in\n",
      "the\n",
      "which\n",
      "a\n",
      "from\n",
      "an\n",
      "to\n",
      "he\n",
      "to\n",
      "the\n",
      "he\n",
      "for\n",
      "for\n",
      "the\n",
      "a\n",
      "for\n",
      "and\n",
      "and\n",
      "the\n",
      "of\n",
      "a\n",
      "of\n",
      "and\n",
      "in\n",
      "the\n",
      "is\n",
      "to\n",
      "on\n",
      "in\n",
      "an\n",
      "and\n",
      "in\n",
      "by\n",
      "and\n",
      "as\n",
      "of\n",
      "to\n",
      "the\n",
      "in\n",
      "their\n"
     ]
    },
    {
     "name": "stderr",
     "output_type": "stream",
     "text": [
      "[nltk_data] Downloading package stopwords to C:\\Users\\Veronika\n",
      "[nltk_data]     Valerievna\\AppData\\Roaming\\nltk_data...\n",
      "[nltk_data]   Package stopwords is already up-to-date!\n"
     ]
    }
   ],
   "source": [
    "nltk.download('stopwords')\n",
    "\n",
    "def get_stopwords(text):\n",
    "    words = nltk.word_tokenize(text)\n",
    "    words = [word.lower() for word in words if word.isalpha()]\n",
    "    stop_words = set(stopwords.words('english'))\n",
    "    found_stopwords = [word for word in words if word in stop_words]\n",
    "    for word in found_stopwords:\n",
    "        print(word)\n",
    "\n",
    "get_stopwords(text)"
   ]
  },
  {
   "cell_type": "markdown",
   "metadata": {},
   "source": [
    "# б) Знайти та вивести всі іменники, які присутні у тексті"
   ]
  },
  {
   "cell_type": "code",
   "execution_count": 50,
   "metadata": {},
   "outputs": [
    {
     "name": "stdout",
     "output_type": "stream",
     "text": [
      "Gordon\n",
      "Brown\n",
      "cry\n",
      "supporters\n",
      "stakes\n",
      "home\n",
      "vote\n",
      "election\n",
      "chancellor\n",
      "vote\n",
      "May\n",
      "choice\n",
      "Labour\n",
      "investment\n",
      "Conservative\n",
      "cuts\n",
      "Labour\n",
      "spring\n",
      "conference\n",
      "Gateshead\n",
      "Mr\n",
      "Brown\n",
      "NHS\n",
      "hands\n",
      "Tory\n",
      "plans\n",
      "tax\n",
      "service\n",
      "audience\n",
      "Gateshead\n",
      "Sage\n",
      "Centre\n",
      "chancellor\n",
      "cuts\n",
      "shadow\n",
      "chancellor\n",
      "Oliver\n",
      "Letwin\n",
      "equivalent\n",
      "teacher\n",
      "GP\n",
      "nurse\n",
      "country\n",
      "activists\n",
      "Conservative\n",
      "record\n",
      "government\n",
      "promise\n",
      "Labour\n",
      "Britain\n",
      "mistakes\n",
      "ERM\n",
      "%\n",
      "inflation\n",
      "%\n",
      "interest\n",
      "rates\n",
      "ВЈ3bn\n",
      "reserves\n",
      "equity\n",
      "Tory\n",
      "boom\n",
      "bust\n",
      "dividing\n",
      "line\n",
      "election\n",
      "Conservative\n",
      "Party\n",
      "Britain\n",
      "cuts\n",
      "ВЈ35bn\n",
      "services\n",
      "government\n",
      "Britain\n",
      "forward\n",
      "platform\n",
      "stability\n",
      "hospitals\n",
      "schools\n",
      "services\n",
      "ВЈ60bn\n",
      "economy\n",
      "chancellor\n",
      "stability\n",
      "growth\n",
      "term\n",
      "power\n",
      "years\n",
      "Labour\n",
      "party\n",
      "economy\n",
      "party\n",
      "economy\n",
      "party\n",
      "employees\n",
      "employers\n",
      "managers\n",
      "speech\n",
      "ovation\n",
      "audience\n",
      "Mr\n",
      "Brown\n",
      "teenage\n",
      "unemployment\n",
      "years\n",
      "plans\n",
      "%\n",
      "debt\n",
      "relief\n",
      "world\n",
      "countries\n",
      "minimum\n",
      "wage\n",
      "17-year-olds\n",
      "creation\n",
      "network\n",
      "children\n",
      "centres\n",
      "flexibility\n",
      "maternity\n",
      "minister\n",
      "part\n",
      "Saturday\n",
      "question\n",
      "answer\n",
      "session\n",
      "queries\n",
      "e-mail\n",
      "message\n",
      "telephone\n",
      "part\n",
      "Labour\n",
      "attempt\n",
      "public\n",
      "campaign\n"
     ]
    }
   ],
   "source": [
    "import nltk\n",
    "\n",
    "def get_nouns(text):\n",
    "    tokens = nltk.word_tokenize(text)\n",
    "    pos_tags = nltk.pos_tag(tokens)\n",
    "    nouns = [word for word, pos in pos_tags if pos.startswith('NN')]\n",
    "    for noun in nouns:\n",
    "        print(noun)\n",
    "\n",
    "get_nouns(text)"
   ]
  },
  {
   "cell_type": "markdown",
   "metadata": {},
   "source": [
    "# в) Знайти та вивести числа і організації, які присутні у тексті"
   ]
  },
  {
   "cell_type": "code",
   "execution_count": 51,
   "metadata": {},
   "outputs": [
    {
     "name": "stdout",
     "output_type": "stream",
     "text": [
      "Labour\n",
      "NHS\n",
      "ВЈ35bn\n",
      "Gateshead\n",
      "GP\n",
      "Conservative\n",
      "ERM\n",
      "ВЈ3bn\n",
      "Conservative Party\n",
      "ВЈ35bn\n"
     ]
    }
   ],
   "source": [
    "# Організації\n",
    "def get_organizations(text):\n",
    "    tokens = nltk.word_tokenize(text)\n",
    "    tagged_tokens = nltk.pos_tag(tokens)\n",
    "    entities = nltk.ne_chunk(tagged_tokens)\n",
    "    organizations = []\n",
    "    for entity in entities:\n",
    "        if hasattr(entity, 'label') and entity.label() == 'ORGANIZATION':\n",
    "            organizations.append(' '.join([token[0] for token in entity.leaves()]))\n",
    "    for organization in organizations:\n",
    "        print(organization)\n",
    "\n",
    "get_organizations(text)"
   ]
  },
  {
   "cell_type": "code",
   "execution_count": 52,
   "metadata": {},
   "outputs": [
    {
     "name": "stdout",
     "output_type": "stream",
     "text": [
      "5\n",
      "10\n",
      "15\n",
      "2008\n",
      "100\n",
      "16\n"
     ]
    }
   ],
   "source": [
    "#Числа\n",
    "def get_numbers(text):\n",
    "    tokens = nltk.word_tokenize(text)\n",
    "    numbers = [token for token in tokens if token.isdigit()]\n",
    "    for number in numbers:\n",
    "        print(number)\n",
    "\n",
    "get_numbers(text)"
   ]
  },
  {
   "cell_type": "code",
   "execution_count": null,
   "metadata": {},
   "outputs": [],
   "source": []
  }
 ],
 "metadata": {
  "kernelspec": {
   "display_name": "Python 3 (ipykernel)",
   "language": "python",
   "name": "python3"
  },
  "language_info": {
   "codemirror_mode": {
    "name": "ipython",
    "version": 3
   },
   "file_extension": ".py",
   "mimetype": "text/x-python",
   "name": "python",
   "nbconvert_exporter": "python",
   "pygments_lexer": "ipython3",
   "version": "3.9.0"
  }
 },
 "nbformat": 4,
 "nbformat_minor": 1
}
