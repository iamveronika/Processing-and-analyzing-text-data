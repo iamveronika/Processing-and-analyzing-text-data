{
 "cells": [
  {
   "cell_type": "markdown",
   "metadata": {
    "collapsed": true
   },
   "source": [
    "# Лабораторна робота No3\n",
    "# Моделі текстових даних\n",
    "# Виконала Вероніка Кондратенко ІО-04"
   ]
  },
  {
   "cell_type": "markdown",
   "metadata": {},
   "source": [
    "# Зчитати файл doc11. Вважати кожен рядок окремим документом корпусу. Виконати попередню обробку корпусу."
   ]
  },
  {
   "cell_type": "code",
   "execution_count": 2,
   "metadata": {},
   "outputs": [],
   "source": [
    "import pandas as pd\n",
    "import numpy as np\n",
    "import re\n",
    "import nltk\n",
    "import matplotlib.pyplot as plt\n",
    "from sklearn.feature_extraction.text import CountVectorizer\n",
    "from sklearn.feature_extraction.text import TfidfVectorizer\n",
    "from sklearn.metrics.pairwise import cosine_similarity\n",
    "from scipy.cluster.hierarchy import dendrogram, linkage\n",
    "from gensim.models import Word2Vec\n",
    "from nltk.corpus import PlaintextCorpusReader"
   ]
  },
  {
   "cell_type": "code",
   "execution_count": 3,
   "metadata": {
    "pycharm": {
     "is_executing": true
    }
   },
   "outputs": [
    {
     "data": {
      "text/plain": [
       "['MARINER 6 and 7 were sent to Mars in 1969 and expanded upon the work done by MARINER 4 four years earlier.\\n',\n",
       " 'Back under the spotlight of public scrutiny she will attempt to erase the double disappointment of the Athens Olympics.\\n',\n",
       " 'MARINER 8 ended up in the Atlantic Ocean in 1971 when the rocket launcher autopilot failed.\\n',\n",
       " 'More than 50 million people own a mobile in the UK, but mobile operators are keen to encourage people to move onto more sophisticated handsets that can do more.\\n',\n",
       " 'MARINER 4, the sister probe to MARINER 3, did reach Mars in 1965.\\n',\n",
       " 'A further recent survey said that only 4% of mobile owners were thinking of upgrading to 3G phones.\\n',\n",
       " 'Radcliffe concedes she will probably learn a lot from her bad experiences in Athens in time.\\n',\n",
       " '\\n',\n",
       " '\\n']"
      ]
     },
     "execution_count": 3,
     "metadata": {},
     "output_type": "execute_result"
    }
   ],
   "source": [
    "text_file = open(\"doc11.txt\", \"r\", encoding=\"utf-8\")\n",
    "corpus = text_file.readlines()\n",
    "text_file.close()\n",
    "corpus"
   ]
  },
  {
   "cell_type": "code",
   "execution_count": 4,
   "metadata": {},
   "outputs": [],
   "source": [
    "wpt = nltk.WordPunctTokenizer()\n",
    "stop_words = nltk.corpus.stopwords.words('english')\n",
    "def preproc_doc(doc):\n",
    "    doc = re.sub(r'[^a-zA-Z\\s]', '', doc, re.I|re.A)\n",
    "    doc = doc.lower()\n",
    "    doc = doc.strip()\n",
    "    tokens = wpt.tokenize(doc)\n",
    "    filtered_tokens = [token for token in tokens if token not in stop_words]\n",
    "    doc = ' '.join(filtered_tokens)\n",
    "    return doc"
   ]
  },
  {
   "cell_type": "code",
   "execution_count": 5,
   "metadata": {},
   "outputs": [],
   "source": [
    "preproc_corpus = np.vectorize(preproc_doc)\n",
    "p_corpus = preproc_corpus(corpus)"
   ]
  },
  {
   "cell_type": "code",
   "execution_count": 6,
   "metadata": {},
   "outputs": [
    {
     "data": {
      "text/plain": [
       "array(['mariner sent mars expanded upon work done mariner four years earlier',\n",
       "       'back spotlight public scrutiny attempt erase double disappointment athens olympics',\n",
       "       'mariner ended atlantic ocean rocket launcher autopilot failed',\n",
       "       'million people mobile uk mobile operators keen encourage people move onto sophisticated handsets',\n",
       "       'mariner sister probe mariner reach mars',\n",
       "       'recent survey said mobile owners thinking upgrading g phones',\n",
       "       'radcliffe concedes probably learn lot bad experiences athens time',\n",
       "       '', ''], dtype='<U96')"
      ]
     },
     "execution_count": 6,
     "metadata": {},
     "output_type": "execute_result"
    }
   ],
   "source": [
    "p_corpus"
   ]
  },
  {
   "cell_type": "markdown",
   "metadata": {},
   "source": [
    "# 1) Представити корпус як модель «Сумка слів». Вивести вектор для слова mariner"
   ]
  },
  {
   "cell_type": "code",
   "execution_count": 7,
   "metadata": {},
   "outputs": [
    {
     "data": {
      "text/plain": [
       "0    2\n",
       "1    0\n",
       "2    1\n",
       "3    0\n",
       "4    2\n",
       "5    0\n",
       "6    0\n",
       "7    0\n",
       "8    0\n",
       "Name: mariner, dtype: int64"
      ]
     },
     "execution_count": 7,
     "metadata": {},
     "output_type": "execute_result"
    }
   ],
   "source": [
    "cv = CountVectorizer(min_df=0., max_df=1.)\n",
    "cv_matrix = cv.fit_transform(p_corpus)\n",
    "cv_matrix = cv_matrix.toarray()\n",
    "vocab = cv.get_feature_names_out()\n",
    "pd.DataFrame(cv_matrix, columns=vocab)[\"mariner\"]"
   ]
  },
  {
   "cell_type": "markdown",
   "metadata": {},
   "source": [
    "# 2) Представити корпус як модель TD-IDF. Спробувати кластеризувати документи за допомогою ієрархічної агломераційної кластеризації"
   ]
  },
  {
   "cell_type": "code",
   "execution_count": 8,
   "metadata": {},
   "outputs": [],
   "source": [
    "tv = TfidfVectorizer(min_df=0., max_df=1., norm='l2', use_idf=True, smooth_idf=True)\n",
    "tv_matrix = tv.fit_transform(p_corpus)\n",
    "tv_matrix = tv_matrix.toarray()\n",
    "vocab = tv.get_feature_names_out()\n",
    "corpus_df = pd.DataFrame(np.round(tv_matrix, 2), columns=vocab)"
   ]
  },
  {
   "cell_type": "code",
   "execution_count": 9,
   "metadata": {},
   "outputs": [
    {
     "data": {
      "text/plain": [
       "array([[0.        , 0.        , 0.        , 0.        , 0.        ,\n",
       "        0.        , 0.        , 0.        , 0.30330102, 0.        ,\n",
       "        0.30330102, 0.        , 0.        , 0.        , 0.30330102,\n",
       "        0.        , 0.        , 0.30330102, 0.        , 0.        ,\n",
       "        0.        , 0.        , 0.        , 0.44546984, 0.25617287,\n",
       "        0.        , 0.        , 0.        , 0.        , 0.        ,\n",
       "        0.        , 0.        , 0.        , 0.        , 0.        ,\n",
       "        0.        , 0.        , 0.        , 0.        , 0.        ,\n",
       "        0.        , 0.        , 0.        , 0.        , 0.30330102,\n",
       "        0.        , 0.        , 0.        , 0.        , 0.        ,\n",
       "        0.        , 0.        , 0.        , 0.30330102, 0.30330102,\n",
       "        0.30330102],\n",
       "       [0.27100304, 0.        , 0.3208595 , 0.        , 0.3208595 ,\n",
       "        0.        , 0.        , 0.3208595 , 0.        , 0.3208595 ,\n",
       "        0.        , 0.        , 0.        , 0.3208595 , 0.        ,\n",
       "        0.        , 0.        , 0.        , 0.        , 0.        ,\n",
       "        0.        , 0.        , 0.        , 0.        , 0.        ,\n",
       "        0.        , 0.        , 0.        , 0.        , 0.3208595 ,\n",
       "        0.        , 0.        , 0.        , 0.        , 0.        ,\n",
       "        0.        , 0.        , 0.3208595 , 0.        , 0.        ,\n",
       "        0.        , 0.        , 0.        , 0.3208595 , 0.        ,\n",
       "        0.        , 0.        , 0.3208595 , 0.        , 0.        ,\n",
       "        0.        , 0.        , 0.        , 0.        , 0.        ,\n",
       "        0.        ],\n",
       "       [0.        , 0.36419547, 0.        , 0.36419547, 0.        ,\n",
       "        0.        , 0.        , 0.        , 0.        , 0.        ,\n",
       "        0.        , 0.        , 0.36419547, 0.        , 0.        ,\n",
       "        0.        , 0.36419547, 0.        , 0.        , 0.        ,\n",
       "        0.36419547, 0.        , 0.        , 0.26745392, 0.        ,\n",
       "        0.        , 0.        , 0.        , 0.36419547, 0.        ,\n",
       "        0.        , 0.        , 0.        , 0.        , 0.        ,\n",
       "        0.        , 0.        , 0.        , 0.        , 0.        ,\n",
       "        0.        , 0.36419547, 0.        , 0.        , 0.        ,\n",
       "        0.        , 0.        , 0.        , 0.        , 0.        ,\n",
       "        0.        , 0.        , 0.        , 0.        , 0.        ,\n",
       "        0.        ],\n",
       "       [0.        , 0.        , 0.        , 0.        , 0.        ,\n",
       "        0.        , 0.        , 0.        , 0.        , 0.        ,\n",
       "        0.        , 0.25115242, 0.        , 0.        , 0.        ,\n",
       "        0.        , 0.        , 0.        , 0.25115242, 0.25115242,\n",
       "        0.        , 0.        , 0.        , 0.        , 0.        ,\n",
       "        0.25115242, 0.42425466, 0.25115242, 0.        , 0.        ,\n",
       "        0.25115242, 0.25115242, 0.        , 0.50230484, 0.        ,\n",
       "        0.        , 0.        , 0.        , 0.        , 0.        ,\n",
       "        0.        , 0.        , 0.        , 0.        , 0.        ,\n",
       "        0.        , 0.25115242, 0.        , 0.        , 0.        ,\n",
       "        0.        , 0.25115242, 0.        , 0.        , 0.        ,\n",
       "        0.        ],\n",
       "       [0.        , 0.        , 0.        , 0.        , 0.        ,\n",
       "        0.        , 0.        , 0.        , 0.        , 0.        ,\n",
       "        0.        , 0.        , 0.        , 0.        , 0.        ,\n",
       "        0.        , 0.        , 0.        , 0.        , 0.        ,\n",
       "        0.        , 0.        , 0.        , 0.60618384, 0.34859342,\n",
       "        0.        , 0.        , 0.        , 0.        , 0.        ,\n",
       "        0.        , 0.        , 0.        , 0.        , 0.        ,\n",
       "        0.        , 0.41272419, 0.        , 0.        , 0.41272419,\n",
       "        0.        , 0.        , 0.        , 0.        , 0.        ,\n",
       "        0.41272419, 0.        , 0.        , 0.        , 0.        ,\n",
       "        0.        , 0.        , 0.        , 0.        , 0.        ,\n",
       "        0.        ],\n",
       "       [0.        , 0.        , 0.        , 0.        , 0.        ,\n",
       "        0.        , 0.        , 0.        , 0.        , 0.        ,\n",
       "        0.        , 0.        , 0.        , 0.        , 0.        ,\n",
       "        0.        , 0.        , 0.        , 0.        , 0.        ,\n",
       "        0.        , 0.        , 0.        , 0.        , 0.        ,\n",
       "        0.        , 0.30411442, 0.        , 0.        , 0.        ,\n",
       "        0.        , 0.        , 0.36006238, 0.        , 0.36006238,\n",
       "        0.        , 0.        , 0.        , 0.        , 0.        ,\n",
       "        0.36006238, 0.        , 0.36006238, 0.        , 0.        ,\n",
       "        0.        , 0.        , 0.        , 0.36006238, 0.36006238,\n",
       "        0.        , 0.        , 0.36006238, 0.        , 0.        ,\n",
       "        0.        ],\n",
       "       [0.28613174, 0.        , 0.        , 0.        , 0.        ,\n",
       "        0.33877143, 0.33877143, 0.        , 0.        , 0.        ,\n",
       "        0.        , 0.        , 0.        , 0.        , 0.        ,\n",
       "        0.33877143, 0.        , 0.        , 0.        , 0.        ,\n",
       "        0.        , 0.33877143, 0.33877143, 0.        , 0.        ,\n",
       "        0.        , 0.        , 0.        , 0.        , 0.        ,\n",
       "        0.        , 0.        , 0.        , 0.        , 0.        ,\n",
       "        0.33877143, 0.        , 0.        , 0.33877143, 0.        ,\n",
       "        0.        , 0.        , 0.        , 0.        , 0.        ,\n",
       "        0.        , 0.        , 0.        , 0.        , 0.        ,\n",
       "        0.33877143, 0.        , 0.        , 0.        , 0.        ,\n",
       "        0.        ],\n",
       "       [0.        , 0.        , 0.        , 0.        , 0.        ,\n",
       "        0.        , 0.        , 0.        , 0.        , 0.        ,\n",
       "        0.        , 0.        , 0.        , 0.        , 0.        ,\n",
       "        0.        , 0.        , 0.        , 0.        , 0.        ,\n",
       "        0.        , 0.        , 0.        , 0.        , 0.        ,\n",
       "        0.        , 0.        , 0.        , 0.        , 0.        ,\n",
       "        0.        , 0.        , 0.        , 0.        , 0.        ,\n",
       "        0.        , 0.        , 0.        , 0.        , 0.        ,\n",
       "        0.        , 0.        , 0.        , 0.        , 0.        ,\n",
       "        0.        , 0.        , 0.        , 0.        , 0.        ,\n",
       "        0.        , 0.        , 0.        , 0.        , 0.        ,\n",
       "        0.        ],\n",
       "       [0.        , 0.        , 0.        , 0.        , 0.        ,\n",
       "        0.        , 0.        , 0.        , 0.        , 0.        ,\n",
       "        0.        , 0.        , 0.        , 0.        , 0.        ,\n",
       "        0.        , 0.        , 0.        , 0.        , 0.        ,\n",
       "        0.        , 0.        , 0.        , 0.        , 0.        ,\n",
       "        0.        , 0.        , 0.        , 0.        , 0.        ,\n",
       "        0.        , 0.        , 0.        , 0.        , 0.        ,\n",
       "        0.        , 0.        , 0.        , 0.        , 0.        ,\n",
       "        0.        , 0.        , 0.        , 0.        , 0.        ,\n",
       "        0.        , 0.        , 0.        , 0.        , 0.        ,\n",
       "        0.        , 0.        , 0.        , 0.        , 0.        ,\n",
       "        0.        ]])"
      ]
     },
     "execution_count": 9,
     "metadata": {},
     "output_type": "execute_result"
    }
   ],
   "source": [
    "tv_matrix"
   ]
  },
  {
   "cell_type": "code",
   "execution_count": 10,
   "metadata": {},
   "outputs": [
    {
     "data": {
      "text/html": [
       "<div>\n",
       "<style scoped>\n",
       "    .dataframe tbody tr th:only-of-type {\n",
       "        vertical-align: middle;\n",
       "    }\n",
       "\n",
       "    .dataframe tbody tr th {\n",
       "        vertical-align: top;\n",
       "    }\n",
       "\n",
       "    .dataframe thead th {\n",
       "        text-align: right;\n",
       "    }\n",
       "</style>\n",
       "<table border=\"1\" class=\"dataframe\">\n",
       "  <thead>\n",
       "    <tr style=\"text-align: right;\">\n",
       "      <th></th>\n",
       "      <th>0</th>\n",
       "      <th>1</th>\n",
       "      <th>2</th>\n",
       "      <th>3</th>\n",
       "      <th>4</th>\n",
       "      <th>5</th>\n",
       "      <th>6</th>\n",
       "      <th>7</th>\n",
       "      <th>8</th>\n",
       "    </tr>\n",
       "  </thead>\n",
       "  <tbody>\n",
       "    <tr>\n",
       "      <th>0</th>\n",
       "      <td>1.000000</td>\n",
       "      <td>0.000000</td>\n",
       "      <td>0.119143</td>\n",
       "      <td>0.000000</td>\n",
       "      <td>0.359337</td>\n",
       "      <td>0.000000</td>\n",
       "      <td>0.000000</td>\n",
       "      <td>0.0</td>\n",
       "      <td>0.0</td>\n",
       "    </tr>\n",
       "    <tr>\n",
       "      <th>1</th>\n",
       "      <td>0.000000</td>\n",
       "      <td>1.000000</td>\n",
       "      <td>0.000000</td>\n",
       "      <td>0.000000</td>\n",
       "      <td>0.000000</td>\n",
       "      <td>0.000000</td>\n",
       "      <td>0.077543</td>\n",
       "      <td>0.0</td>\n",
       "      <td>0.0</td>\n",
       "    </tr>\n",
       "    <tr>\n",
       "      <th>2</th>\n",
       "      <td>0.119143</td>\n",
       "      <td>0.000000</td>\n",
       "      <td>1.000000</td>\n",
       "      <td>0.000000</td>\n",
       "      <td>0.162126</td>\n",
       "      <td>0.000000</td>\n",
       "      <td>0.000000</td>\n",
       "      <td>0.0</td>\n",
       "      <td>0.0</td>\n",
       "    </tr>\n",
       "    <tr>\n",
       "      <th>3</th>\n",
       "      <td>0.000000</td>\n",
       "      <td>0.000000</td>\n",
       "      <td>0.000000</td>\n",
       "      <td>1.000000</td>\n",
       "      <td>0.000000</td>\n",
       "      <td>0.129022</td>\n",
       "      <td>0.000000</td>\n",
       "      <td>0.0</td>\n",
       "      <td>0.0</td>\n",
       "    </tr>\n",
       "    <tr>\n",
       "      <th>4</th>\n",
       "      <td>0.359337</td>\n",
       "      <td>0.000000</td>\n",
       "      <td>0.162126</td>\n",
       "      <td>0.000000</td>\n",
       "      <td>1.000000</td>\n",
       "      <td>0.000000</td>\n",
       "      <td>0.000000</td>\n",
       "      <td>0.0</td>\n",
       "      <td>0.0</td>\n",
       "    </tr>\n",
       "    <tr>\n",
       "      <th>5</th>\n",
       "      <td>0.000000</td>\n",
       "      <td>0.000000</td>\n",
       "      <td>0.000000</td>\n",
       "      <td>0.129022</td>\n",
       "      <td>0.000000</td>\n",
       "      <td>1.000000</td>\n",
       "      <td>0.000000</td>\n",
       "      <td>0.0</td>\n",
       "      <td>0.0</td>\n",
       "    </tr>\n",
       "    <tr>\n",
       "      <th>6</th>\n",
       "      <td>0.000000</td>\n",
       "      <td>0.077543</td>\n",
       "      <td>0.000000</td>\n",
       "      <td>0.000000</td>\n",
       "      <td>0.000000</td>\n",
       "      <td>0.000000</td>\n",
       "      <td>1.000000</td>\n",
       "      <td>0.0</td>\n",
       "      <td>0.0</td>\n",
       "    </tr>\n",
       "    <tr>\n",
       "      <th>7</th>\n",
       "      <td>0.000000</td>\n",
       "      <td>0.000000</td>\n",
       "      <td>0.000000</td>\n",
       "      <td>0.000000</td>\n",
       "      <td>0.000000</td>\n",
       "      <td>0.000000</td>\n",
       "      <td>0.000000</td>\n",
       "      <td>0.0</td>\n",
       "      <td>0.0</td>\n",
       "    </tr>\n",
       "    <tr>\n",
       "      <th>8</th>\n",
       "      <td>0.000000</td>\n",
       "      <td>0.000000</td>\n",
       "      <td>0.000000</td>\n",
       "      <td>0.000000</td>\n",
       "      <td>0.000000</td>\n",
       "      <td>0.000000</td>\n",
       "      <td>0.000000</td>\n",
       "      <td>0.0</td>\n",
       "      <td>0.0</td>\n",
       "    </tr>\n",
       "  </tbody>\n",
       "</table>\n",
       "</div>"
      ],
      "text/plain": [
       "          0         1         2         3         4         5         6    7  \\\n",
       "0  1.000000  0.000000  0.119143  0.000000  0.359337  0.000000  0.000000  0.0   \n",
       "1  0.000000  1.000000  0.000000  0.000000  0.000000  0.000000  0.077543  0.0   \n",
       "2  0.119143  0.000000  1.000000  0.000000  0.162126  0.000000  0.000000  0.0   \n",
       "3  0.000000  0.000000  0.000000  1.000000  0.000000  0.129022  0.000000  0.0   \n",
       "4  0.359337  0.000000  0.162126  0.000000  1.000000  0.000000  0.000000  0.0   \n",
       "5  0.000000  0.000000  0.000000  0.129022  0.000000  1.000000  0.000000  0.0   \n",
       "6  0.000000  0.077543  0.000000  0.000000  0.000000  0.000000  1.000000  0.0   \n",
       "7  0.000000  0.000000  0.000000  0.000000  0.000000  0.000000  0.000000  0.0   \n",
       "8  0.000000  0.000000  0.000000  0.000000  0.000000  0.000000  0.000000  0.0   \n",
       "\n",
       "     8  \n",
       "0  0.0  \n",
       "1  0.0  \n",
       "2  0.0  \n",
       "3  0.0  \n",
       "4  0.0  \n",
       "5  0.0  \n",
       "6  0.0  \n",
       "7  0.0  \n",
       "8  0.0  "
      ]
     },
     "execution_count": 10,
     "metadata": {},
     "output_type": "execute_result"
    }
   ],
   "source": [
    "similarity_matrix = cosine_similarity(tv_matrix)\n",
    "sim_mat_df = pd.DataFrame(similarity_matrix)\n",
    "sim_mat_df"
   ]
  },
  {
   "cell_type": "code",
   "execution_count": 11,
   "metadata": {},
   "outputs": [
    {
     "data": {
      "text/html": [
       "<div>\n",
       "<style scoped>\n",
       "    .dataframe tbody tr th:only-of-type {\n",
       "        vertical-align: middle;\n",
       "    }\n",
       "\n",
       "    .dataframe tbody tr th {\n",
       "        vertical-align: top;\n",
       "    }\n",
       "\n",
       "    .dataframe thead th {\n",
       "        text-align: right;\n",
       "    }\n",
       "</style>\n",
       "<table border=\"1\" class=\"dataframe\">\n",
       "  <thead>\n",
       "    <tr style=\"text-align: right;\">\n",
       "      <th></th>\n",
       "      <th>0</th>\n",
       "      <th>1</th>\n",
       "      <th>2</th>\n",
       "      <th>3</th>\n",
       "    </tr>\n",
       "  </thead>\n",
       "  <tbody>\n",
       "    <tr>\n",
       "      <th>0</th>\n",
       "      <td>7.0</td>\n",
       "      <td>8.0</td>\n",
       "      <td>0.000000</td>\n",
       "      <td>2.0</td>\n",
       "    </tr>\n",
       "    <tr>\n",
       "      <th>1</th>\n",
       "      <td>0.0</td>\n",
       "      <td>4.0</td>\n",
       "      <td>0.907054</td>\n",
       "      <td>2.0</td>\n",
       "    </tr>\n",
       "    <tr>\n",
       "      <th>2</th>\n",
       "      <td>6.0</td>\n",
       "      <td>9.0</td>\n",
       "      <td>1.158167</td>\n",
       "      <td>3.0</td>\n",
       "    </tr>\n",
       "    <tr>\n",
       "      <th>3</th>\n",
       "      <td>3.0</td>\n",
       "      <td>5.0</td>\n",
       "      <td>1.231749</td>\n",
       "      <td>2.0</td>\n",
       "    </tr>\n",
       "    <tr>\n",
       "      <th>4</th>\n",
       "      <td>1.0</td>\n",
       "      <td>11.0</td>\n",
       "      <td>1.233533</td>\n",
       "      <td>4.0</td>\n",
       "    </tr>\n",
       "    <tr>\n",
       "      <th>5</th>\n",
       "      <td>2.0</td>\n",
       "      <td>10.0</td>\n",
       "      <td>1.326925</td>\n",
       "      <td>3.0</td>\n",
       "    </tr>\n",
       "    <tr>\n",
       "      <th>6</th>\n",
       "      <td>12.0</td>\n",
       "      <td>13.0</td>\n",
       "      <td>1.444514</td>\n",
       "      <td>6.0</td>\n",
       "    </tr>\n",
       "    <tr>\n",
       "      <th>7</th>\n",
       "      <td>14.0</td>\n",
       "      <td>15.0</td>\n",
       "      <td>1.808658</td>\n",
       "      <td>9.0</td>\n",
       "    </tr>\n",
       "  </tbody>\n",
       "</table>\n",
       "</div>"
      ],
      "text/plain": [
       "      0     1         2    3\n",
       "0   7.0   8.0  0.000000  2.0\n",
       "1   0.0   4.0  0.907054  2.0\n",
       "2   6.0   9.0  1.158167  3.0\n",
       "3   3.0   5.0  1.231749  2.0\n",
       "4   1.0  11.0  1.233533  4.0\n",
       "5   2.0  10.0  1.326925  3.0\n",
       "6  12.0  13.0  1.444514  6.0\n",
       "7  14.0  15.0  1.808658  9.0"
      ]
     },
     "execution_count": 11,
     "metadata": {},
     "output_type": "execute_result"
    }
   ],
   "source": [
    "links = linkage(similarity_matrix, 'ward')\n",
    "links_df = pd.DataFrame(links)\n",
    "links_df"
   ]
  },
  {
   "cell_type": "code",
   "execution_count": 12,
   "metadata": {},
   "outputs": [
    {
     "data": {
      "text/plain": [
       "{'icoord': [[15.0, 15.0, 25.0, 25.0],\n",
       "  [5.0, 5.0, 20.0, 20.0],\n",
       "  [35.0, 35.0, 45.0, 45.0],\n",
       "  [75.0, 75.0, 85.0, 85.0],\n",
       "  [65.0, 65.0, 80.0, 80.0],\n",
       "  [55.0, 55.0, 72.5, 72.5],\n",
       "  [40.0, 40.0, 63.75, 63.75],\n",
       "  [12.5, 12.5, 51.875, 51.875]],\n",
       " 'dcoord': [[0.0, 0.9070536234181575, 0.9070536234181575, 0.0],\n",
       "  [0.0, 1.3269253336700688, 1.3269253336700688, 0.9070536234181575],\n",
       "  [0.0, 1.2317489573273182, 1.2317489573273182, 0.0],\n",
       "  [0.0, 0.0, 0.0, 0.0],\n",
       "  [0.0, 1.1581668563256358, 1.1581668563256358, 0.0],\n",
       "  [0.0, 1.2335327080582967, 1.2335327080582967, 1.1581668563256358],\n",
       "  [1.2317489573273182,\n",
       "   1.444513797436927,\n",
       "   1.444513797436927,\n",
       "   1.2335327080582967],\n",
       "  [1.3269253336700688,\n",
       "   1.8086576429973216,\n",
       "   1.8086576429973216,\n",
       "   1.444513797436927]],\n",
       " 'ivl': ['2', '0', '4', '3', '5', '1', '6', '7', '8'],\n",
       " 'leaves': [2, 0, 4, 3, 5, 1, 6, 7, 8],\n",
       " 'color_list': ['C1', 'C0', 'C2', 'C3', 'C3', 'C3', 'C0', 'C0'],\n",
       " 'leaves_color_list': ['C0', 'C1', 'C1', 'C2', 'C2', 'C3', 'C3', 'C3', 'C3']}"
      ]
     },
     "execution_count": 12,
     "metadata": {},
     "output_type": "execute_result"
    },
    {
     "data": {
      "image/png": "[encoded data removed]",
      "text/plain": [
       "<Figure size 800x300 with 1 Axes>"
      ]
     },
     "metadata": {},
     "output_type": "display_data"
    }
   ],
   "source": [
    "plt.figure(figsize=(8, 3))\n",
    "plt.title('Дендрограма')\n",
    "plt.xlabel('Документи')\n",
    "plt.ylabel('Відстань')\n",
    "dendrogram(links)"
   ]
  },
  {
   "cell_type": "code",
   "execution_count": 13,
   "metadata": {},
   "outputs": [
    {
     "data": {
      "text/html": [
       "<div>\n",
       "<style scoped>\n",
       "    .dataframe tbody tr th:only-of-type {\n",
       "        vertical-align: middle;\n",
       "    }\n",
       "\n",
       "    .dataframe tbody tr th {\n",
       "        vertical-align: top;\n",
       "    }\n",
       "\n",
       "    .dataframe thead th {\n",
       "        text-align: right;\n",
       "    }\n",
       "</style>\n",
       "<table border=\"1\" class=\"dataframe\">\n",
       "  <thead>\n",
       "    <tr style=\"text-align: right;\">\n",
       "      <th></th>\n",
       "      <th>Documents</th>\n",
       "      <th>ClusterLabel</th>\n",
       "    </tr>\n",
       "  </thead>\n",
       "  <tbody>\n",
       "    <tr>\n",
       "      <th>0</th>\n",
       "      <td>mariner sent mars expanded upon work done mari...</td>\n",
       "      <td>1</td>\n",
       "    </tr>\n",
       "    <tr>\n",
       "      <th>1</th>\n",
       "      <td>back spotlight public scrutiny attempt erase d...</td>\n",
       "      <td>3</td>\n",
       "    </tr>\n",
       "    <tr>\n",
       "      <th>2</th>\n",
       "      <td>mariner ended atlantic ocean rocket launcher a...</td>\n",
       "      <td>1</td>\n",
       "    </tr>\n",
       "    <tr>\n",
       "      <th>3</th>\n",
       "      <td>million people mobile uk mobile operators keen...</td>\n",
       "      <td>2</td>\n",
       "    </tr>\n",
       "    <tr>\n",
       "      <th>4</th>\n",
       "      <td>mariner sister probe mariner reach mars</td>\n",
       "      <td>1</td>\n",
       "    </tr>\n",
       "    <tr>\n",
       "      <th>5</th>\n",
       "      <td>recent survey said mobile owners thinking upgr...</td>\n",
       "      <td>2</td>\n",
       "    </tr>\n",
       "    <tr>\n",
       "      <th>6</th>\n",
       "      <td>radcliffe concedes probably learn lot bad expe...</td>\n",
       "      <td>3</td>\n",
       "    </tr>\n",
       "    <tr>\n",
       "      <th>7</th>\n",
       "      <td></td>\n",
       "      <td>3</td>\n",
       "    </tr>\n",
       "    <tr>\n",
       "      <th>8</th>\n",
       "      <td></td>\n",
       "      <td>3</td>\n",
       "    </tr>\n",
       "  </tbody>\n",
       "</table>\n",
       "</div>"
      ],
      "text/plain": [
       "                                           Documents  ClusterLabel\n",
       "0  mariner sent mars expanded upon work done mari...             1\n",
       "1  back spotlight public scrutiny attempt erase d...             3\n",
       "2  mariner ended atlantic ocean rocket launcher a...             1\n",
       "3  million people mobile uk mobile operators keen...             2\n",
       "4            mariner sister probe mariner reach mars             1\n",
       "5  recent survey said mobile owners thinking upgr...             2\n",
       "6  radcliffe concedes probably learn lot bad expe...             3\n",
       "7                                                                3\n",
       "8                                                                3"
      ]
     },
     "execution_count": 13,
     "metadata": {},
     "output_type": "execute_result"
    }
   ],
   "source": [
    "from scipy.cluster.hierarchy import fcluster\n",
    "max_dist = 1.42\n",
    "cluster_labels = fcluster(links, max_dist, criterion='distance')\n",
    "pd.DataFrame({'Documents': p_corpus, 'ClusterLabel': cluster_labels})"
   ]
  },
  {
   "cell_type": "markdown",
   "metadata": {},
   "source": [
    "# 3) Представити корпус як модель Word2Vec. Знайти подібні слова до слів mobile, Athens"
   ]
  },
  {
   "cell_type": "code",
   "execution_count": 14,
   "metadata": {},
   "outputs": [],
   "source": [
    "tokenized_corpus = [wpt.tokenize(document) for document in p_corpus]\n",
    "ft_model = Word2Vec(tokenized_corpus, vector_size=100,window=3, min_count=1,sample=1e-3, sg=1)"
   ]
  },
  {
   "cell_type": "code",
   "execution_count": 15,
   "metadata": {},
   "outputs": [
    {
     "data": {
      "text/plain": [
       "{'mobile': ['expanded', 'years', 'keen', 'public', 'double'],\n",
       " 'athens': ['double', 'g', 'million', 'time', 'probably']}"
      ]
     },
     "execution_count": 15,
     "metadata": {},
     "output_type": "execute_result"
    }
   ],
   "source": [
    "similar_words = {search_term: [item[0] for item in ft_model.wv.most_similar([search_term], topn=5)] for search_term in ['mobile', 'athens']}\n",
    "similar_words"
   ]
  },
  {
   "cell_type": "code",
   "execution_count": null,
   "metadata": {},
   "outputs": [],
   "source": []
  },
  {
   "cell_type": "code",
   "execution_count": null,
   "metadata": {},
   "outputs": [],
   "source": []
  }
 ],
 "metadata": {
  "kernelspec": {
   "display_name": "Python 3 (ipykernel)",
   "language": "python",
   "name": "python3"
  },
  "language_info": {
   "codemirror_mode": {
    "name": "ipython",
    "version": 3
   },
   "file_extension": ".py",
   "mimetype": "text/x-python",
   "name": "python",
   "nbconvert_exporter": "python",
   "pygments_lexer": "ipython3",
   "version": "3.9.0"
  }
 },
 "nbformat": 4,
 "nbformat_minor": 1
}
