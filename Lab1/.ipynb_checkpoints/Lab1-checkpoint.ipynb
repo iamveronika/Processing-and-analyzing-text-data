{
 "cells": [
  {
   "cell_type": "markdown",
   "metadata": {},
   "source": [
    "# Лабораторна робота № 1\n",
    "# Робота з текстовими даними в Python\n",
    "# Виконала Кондратенко Вероніка ІО-04"
   ]
  },
  {
   "cell_type": "code",
   "execution_count": null,
   "metadata": {},
   "outputs": [],
   "source": [
    "import re"
   ]
  },
  {
   "cell_type": "markdown",
   "metadata": {},
   "source": [
    "# Зчитує текстовий файл відповідно до варіанту як рядок. За допомогою зрізів виділити частину тексту в окрему змінну-рядок та використати описані в теоретичних відомостях функції та методи для роботи з рядками."
   ]
  },
  {
   "cell_type": "code",
   "execution_count": 28,
   "metadata": {},
   "outputs": [
    {
     "data": {
      "text/plain": [
       "'Slowly and solemnly he was borne into Briony Lodge 145a and laid out in the\\nprincipal room, while I (094)-44-33 still observed the proceedings from my post\\nby the window 12/15/1892. The lamps had been lit, but the blinds had not been\\ndrawn, so that I could see Holmes sh_holmes221@mail.uk as he lay upon the couch. I do not\\nknow whether he was seized with compunction at that moment for the part\\nhe was playing, but I know that I never felt more heartily ashamed of\\nmyself in my life 34-34-32 than when I saw the beautiful creature against whom\\nI wston23@mymail.com was conspiring, or the grace and kindliness with which she waited\\nupon the injured man. And yet it would be the blackest treachery to 1895-11-17\\nHolmes to draw back now from the part which he had intrusted to me Avenue 123.\\nI hardened my heart Wtason Street 45b, and took the smoke-rocket from under my ulster.\\nAfter all, 344-21-01 I thought, we are not injuring her. We are but preventing\\nher from injuring another adlerrr@mail.com.'"
      ]
     },
     "execution_count": 28,
     "metadata": {},
     "output_type": "execute_result"
    }
   ],
   "source": [
    "text_file = open(\"text3.txt\", \"r\")\n",
    "text = text_file.read()\n",
    "text_file.close()\n",
    "text"
   ]
  },
  {
   "cell_type": "code",
   "execution_count": 29,
   "metadata": {},
   "outputs": [
    {
     "data": {
      "text/plain": [
       "'Slowly and solemn'"
      ]
     },
     "execution_count": 29,
     "metadata": {},
     "output_type": "execute_result"
    }
   ],
   "source": [
    "text[:17]"
   ]
  },
  {
   "cell_type": "code",
   "execution_count": 30,
   "metadata": {},
   "outputs": [
    {
     "data": {
      "text/plain": [
       "'Sw d'"
      ]
     },
     "execution_count": 30,
     "metadata": {},
     "output_type": "execute_result"
    }
   ],
   "source": [
    "text[:10:3]"
   ]
  },
  {
   "cell_type": "code",
   "execution_count": 31,
   "metadata": {},
   "outputs": [
    {
     "data": {
      "text/plain": [
       "999"
      ]
     },
     "execution_count": 31,
     "metadata": {},
     "output_type": "execute_result"
    }
   ],
   "source": [
    "len(text)"
   ]
  },
  {
   "cell_type": "code",
   "execution_count": 32,
   "metadata": {},
   "outputs": [
    {
     "data": {
      "text/plain": [
       "66"
      ]
     },
     "execution_count": 32,
     "metadata": {},
     "output_type": "execute_result"
    }
   ],
   "source": [
    "text.count(\"t\")"
   ]
  },
  {
   "cell_type": "code",
   "execution_count": 33,
   "metadata": {},
   "outputs": [
    {
     "data": {
      "text/plain": [
       "11"
      ]
     },
     "execution_count": 33,
     "metadata": {},
     "output_type": "execute_result"
    }
   ],
   "source": [
    "text.find(\"s\")"
   ]
  },
  {
   "cell_type": "code",
   "execution_count": 34,
   "metadata": {},
   "outputs": [
    {
     "data": {
      "text/plain": [
       "180"
      ]
     },
     "execution_count": 34,
     "metadata": {},
     "output_type": "execute_result"
    }
   ],
   "source": [
    "text.index(\".\")"
   ]
  },
  {
   "cell_type": "code",
   "execution_count": 35,
   "metadata": {},
   "outputs": [
    {
     "data": {
      "text/plain": [
       "'Slowly and solemnly he was borne into Briony Lodge 145a and laid out in the\\nprincipal room, while I (094)-44-3'"
      ]
     },
     "execution_count": 35,
     "metadata": {},
     "output_type": "execute_result"
    }
   ],
   "source": [
    "text_part = text[:110]\n",
    "text_part"
   ]
  },
  {
   "cell_type": "code",
   "execution_count": 36,
   "metadata": {},
   "outputs": [
    {
     "data": {
      "text/plain": [
       "'S l o w l y   a n d   s o l e m n l y   h e   w a s   b o r n e   i n t o   B r i o n y   L o d g e   1 4 5 a   a n d   l a i d   o u t   i n   t h e \\n p r i n c i p a l   r o o m ,   w h i l e   I   ( 0 9 4 ) - 4 4 - 3'"
      ]
     },
     "execution_count": 36,
     "metadata": {},
     "output_type": "execute_result"
    }
   ],
   "source": [
    "\" \".join(text_part)"
   ]
  },
  {
   "cell_type": "code",
   "execution_count": 37,
   "metadata": {},
   "outputs": [
    {
     "data": {
      "text/plain": [
       "'SLOWLY AND SOLEMNLY HE WAS BORNE INTO BRIONY LODGE 145A AND LAID OUT IN THE\\nPRINCIPAL ROOM, WHILE I (094)-44-3'"
      ]
     },
     "execution_count": 37,
     "metadata": {},
     "output_type": "execute_result"
    }
   ],
   "source": [
    "text_part.upper()\n",
    "# text_part.lower()\n",
    "# text_part.title()\n",
    "# text_part.capitalize()"
   ]
  },
  {
   "cell_type": "code",
   "execution_count": 38,
   "metadata": {},
   "outputs": [
    {
     "data": {
      "text/plain": [
       "'Slowly and solemnly he was borne into Briony Lodge 145a and laid out in the\\nprincipal room, while I (094) 44 3'"
      ]
     },
     "execution_count": 38,
     "metadata": {},
     "output_type": "execute_result"
    }
   ],
   "source": [
    "text_part.replace(\"-\", \" \")"
   ]
  },
  {
   "cell_type": "code",
   "execution_count": 39,
   "metadata": {},
   "outputs": [
    {
     "data": {
      "text/plain": [
       "False"
      ]
     },
     "execution_count": 39,
     "metadata": {},
     "output_type": "execute_result"
    }
   ],
   "source": [
    "text_part.isalpha()"
   ]
  },
  {
   "cell_type": "code",
   "execution_count": 40,
   "metadata": {},
   "outputs": [
    {
     "data": {
      "text/plain": [
       "False"
      ]
     },
     "execution_count": 40,
     "metadata": {},
     "output_type": "execute_result"
    }
   ],
   "source": [
    "text_part.isalnum()"
   ]
  },
  {
   "cell_type": "code",
   "execution_count": 41,
   "metadata": {},
   "outputs": [
    {
     "data": {
      "text/plain": [
       "False"
      ]
     },
     "execution_count": 41,
     "metadata": {},
     "output_type": "execute_result"
    }
   ],
   "source": [
    "text_part.isdigit()"
   ]
  },
  {
   "cell_type": "code",
   "execution_count": 42,
   "metadata": {},
   "outputs": [
    {
     "data": {
      "text/plain": [
       "False"
      ]
     },
     "execution_count": 42,
     "metadata": {},
     "output_type": "execute_result"
    }
   ],
   "source": [
    "# text_part = text_part.title()\n",
    "text_part.istitle()"
   ]
  },
  {
   "cell_type": "code",
   "execution_count": 43,
   "metadata": {},
   "outputs": [
    {
     "data": {
      "text/plain": [
       "False"
      ]
     },
     "execution_count": 43,
     "metadata": {},
     "output_type": "execute_result"
    }
   ],
   "source": [
    "# text_part = text_part.lower()\n",
    "text_part.islower()"
   ]
  },
  {
   "cell_type": "code",
   "execution_count": 44,
   "metadata": {},
   "outputs": [
    {
     "data": {
      "text/plain": [
       "False"
      ]
     },
     "execution_count": 44,
     "metadata": {},
     "output_type": "execute_result"
    }
   ],
   "source": [
    "# text_part = text_part.upper()\n",
    "text_part.isupper()"
   ]
  },
  {
   "cell_type": "code",
   "execution_count": 45,
   "metadata": {},
   "outputs": [
    {
     "data": {
      "text/plain": [
       "False"
      ]
     },
     "execution_count": 45,
     "metadata": {},
     "output_type": "execute_result"
    }
   ],
   "source": [
    "text_part.startswith(\"A\")"
   ]
  },
  {
   "cell_type": "code",
   "execution_count": 46,
   "metadata": {},
   "outputs": [
    {
     "data": {
      "text/plain": [
       "False"
      ]
     },
     "execution_count": 46,
     "metadata": {},
     "output_type": "execute_result"
    }
   ],
   "source": [
    "text_part.endswith(\"A\")"
   ]
  },
  {
   "cell_type": "code",
   "execution_count": 47,
   "metadata": {},
   "outputs": [
    {
     "name": "stdout",
     "output_type": "stream",
     "text": [
      "['Slowly', 'and', 'solemnly', 'he', 'was', 'borne', 'into', 'Briony', 'Lodge', '145a', 'and', 'laid', 'out', 'in', 'the', 'principal', 'room,', 'while', 'I', '(094)-44-3']\n"
     ]
    }
   ],
   "source": [
    "print(text_part.split())"
   ]
  },
  {
   "cell_type": "code",
   "execution_count": 48,
   "metadata": {},
   "outputs": [
    {
     "data": {
      "text/plain": [
       "['Slowly and solemnly he was borne into Briony Lodge 145a and laid out in the\\nprincipal room, while I (094)-44-3']"
      ]
     },
     "execution_count": 48,
     "metadata": {},
     "output_type": "execute_result"
    }
   ],
   "source": [
    "text_part.split(\"/\")"
   ]
  },
  {
   "cell_type": "markdown",
   "metadata": {},
   "source": [
    "# За допомогою регулярних виразів.\n",
    "# Варіант 11.\n",
    "# Знайти всі номери телефонів та замінити будь-яким символом всі цифри, крім перших двох. Файл text3."
   ]
  },
  {
   "cell_type": "code",
   "execution_count": 92,
   "metadata": {},
   "outputs": [],
   "source": [
    "import re"
   ]
  },
  {
   "cell_type": "code",
   "execution_count": 93,
   "metadata": {},
   "outputs": [
    {
     "data": {
      "text/plain": [
       "'Slowly and solemnly he was borne into Briony Lodge 145a and laid out in the\\nprincipal room, while I (094)-44-33 still observed the proceedings from my post\\nby the window 12/15/1892. The lamps had been lit, but the blinds had not been\\ndrawn, so that I could see Holmes sh_holmes221@mail.uk as he lay upon the couch. I do not\\nknow whether he was seized with compunction at that moment for the part\\nhe was playing, but I know that I never felt more heartily ashamed of\\nmyself in my life 34-34-32 than when I saw the beautiful creature against whom\\nI wston23@mymail.com was conspiring, or the grace and kindliness with which she waited\\nupon the injured man. And yet it would be the blackest treachery to 1895-11-17\\nHolmes to draw back now from the part which he had intrusted to me Avenue 123.\\nI hardened my heart Wtason Street 45b, and took the smoke-rocket from under my ulster.\\nAfter all, 344-21-01 I thought, we are not injuring her. We are but preventing\\nher from injuring another adlerrr@mail.com.'"
      ]
     },
     "execution_count": 93,
     "metadata": {},
     "output_type": "execute_result"
    }
   ],
   "source": [
    "text_file = open(\"text3.txt\", \"r\")\n",
    "text = text_file.read()\n",
    "text_file.close()\n",
    "text"
   ]
  },
  {
   "cell_type": "code",
   "execution_count": 94,
   "metadata": {},
   "outputs": [],
   "source": [
    "telnumber_re = re.compile(r\"\\(?\\d+\\)?-\\d+-\\d+\")\n",
    "num_re = re.compile(r\"\\d\")"
   ]
  },
  {
   "cell_type": "code",
   "execution_count": 95,
   "metadata": {},
   "outputs": [
    {
     "name": "stdout",
     "output_type": "stream",
     "text": [
      "(09*)-**-**\n",
      "(094)-44-33\n",
      "34-**-**\n",
      "34-34-32\n",
      "18**-**-**\n",
      "1895-11-17\n",
      "34*-**-**\n",
      "344-21-01\n"
     ]
    },
    {
     "data": {
      "text/plain": [
       "'Slowly and solemnly he was borne into Briony Lodge 145a and laid out in the\\nprincipal room, while I (09*)-**-** still observed the proceedings from my post\\nby the window 12/15/1892. The lamps had been lit, but the blinds had not been\\ndrawn, so that I could see Holmes sh_holmes221@mail.uk as he lay upon the couch. I do not\\nknow whether he was seized with compunction at that moment for the part\\nhe was playing, but I know that I never felt more heartily ashamed of\\nmyself in my life 34-**-** than when I saw the beautiful creature against whom\\nI wston23@mymail.com was conspiring, or the grace and kindliness with which she waited\\nupon the injured man. And yet it would be the blackest treachery to 18**-**-**\\nHolmes to draw back now from the part which he had intrusted to me Avenue 123.\\nI hardened my heart Wtason Street 45b, and took the smoke-rocket from under my ulster.\\nAfter all, 34*-**-** I thought, we are not injuring her. We are but preventing\\nher from injuring another adlerrr@mail.com.'"
      ]
     },
     "execution_count": 95,
     "metadata": {},
     "output_type": "execute_result"
    }
   ],
   "source": [
    "telnumbers = telnumber_re.findall(text)\n",
    "for number in telnumbers:\n",
    "    modified = num_re.sub(\"*\", number[::-1], len(num_re.findall(number)) - 2)[::-1]\n",
    "    print(modified)\n",
    "    print(number)\n",
    "    text = text.replace(number, modified)\n",
    "telnumbers\n",
    "text"
   ]
  },
  {
   "cell_type": "code",
   "execution_count": null,
   "metadata": {},
   "outputs": [],
   "source": []
  }
 ],
 "metadata": {
  "kernelspec": {
   "display_name": "Python 3 (ipykernel)",
   "language": "python",
   "name": "python3"
  },
  "language_info": {
   "codemirror_mode": {
    "name": "ipython",
    "version": 3
   },
   "file_extension": ".py",
   "mimetype": "text/x-python",
   "name": "python",
   "nbconvert_exporter": "python",
   "pygments_lexer": "ipython3",
   "version": "3.9.0"
  }
 },
 "nbformat": 4,
 "nbformat_minor": 4
}
